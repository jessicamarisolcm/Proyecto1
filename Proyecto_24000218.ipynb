{
 "cells": [
  {
   "cell_type": "code",
   "execution_count": 3,
   "id": "552eeb0d-234f-4aa4-855f-ba6e7e91939a",
   "metadata": {
    "tags": []
   },
   "outputs": [],
   "source": [
    "#Proyecto 1 \n",
    "import numpy as np\n",
    "\n",
    "data = np.load('\n"
   ]
  },
  {
   "cell_type": "code",
   "execution_count": null,
   "id": "f869975f-a001-4d2c-8f65-f747a0547a5b",
   "metadata": {},
   "outputs": [],
   "source": []
  }
 ],
 "metadata": {
  "kernelspec": {
   "display_name": "Python 3 (ipykernel)",
   "language": "python",
   "name": "python3"
  },
  "language_info": {
   "codemirror_mode": {
    "name": "ipython",
    "version": 3
   },
   "file_extension": ".py",
   "mimetype": "text/x-python",
   "name": "python",
   "nbconvert_exporter": "python",
   "pygments_lexer": "ipython3",
   "version": "3.11.5"
  }
 },
 "nbformat": 4,
 "nbformat_minor": 5
}
